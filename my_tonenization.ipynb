{
 "cells": [
  {
   "cell_type": "code",
   "execution_count": 2,
   "metadata": {},
   "outputs": [
    {
     "data": {
      "text/plain": [
       "104"
      ]
     },
     "execution_count": 2,
     "metadata": {},
     "output_type": "execute_result"
    }
   ],
   "source": [
    "ord(\"h\") # ord gives us the unicode of a single string"
   ]
  },
  {
   "cell_type": "code",
   "execution_count": 3,
   "metadata": {},
   "outputs": [
    {
     "data": {
      "text/plain": [
       "[104, 101, 108, 108, 111]"
      ]
     },
     "execution_count": 3,
     "metadata": {},
     "output_type": "execute_result"
    }
   ],
   "source": [
    "[ord(x) for x in 'hello']"
   ]
  },
  {
   "cell_type": "code",
   "execution_count": 4,
   "metadata": {},
   "outputs": [
    {
     "data": {
      "text/plain": [
       "[104, 101, 108, 108, 111]"
      ]
     },
     "execution_count": 4,
     "metadata": {},
     "output_type": "execute_result"
    }
   ],
   "source": [
    "list('hello'.encode('utf-8')) # the ideal utf fot the length of the token length"
   ]
  },
  {
   "cell_type": "code",
   "execution_count": 5,
   "metadata": {},
   "outputs": [
    {
     "name": "stdout",
     "output_type": "stream",
     "text": [
      "length of tokens:  296\n",
      "length of text:  296\n"
     ]
    }
   ],
   "source": [
    "text = \"Do you think it is important to use proper grammar and punctuation while texting? Or can overly formal texts send the wrong message?, Take a look at the most recent text you sent. Does it contain punctuation? Are words capitalized or all lowercase? Does it contain emojis? How formal is the tone?\"\n",
    "\n",
    "tokens = text.encode(encoding='utf-8') # raw of to a list if integers in range 0.25 for convenience\n",
    "tokens = list(map(int, tokens))\n",
    "print(\"length of tokens: \", len(tokens))\n",
    "print(\"length of text: \", len(text))"
   ]
  },
  {
   "cell_type": "code",
   "execution_count": 6,
   "metadata": {},
   "outputs": [
    {
     "data": {
      "text/plain": [
       "[68,\n",
       " 111,\n",
       " 32,\n",
       " 121,\n",
       " 111,\n",
       " 117,\n",
       " 32,\n",
       " 116,\n",
       " 104,\n",
       " 105,\n",
       " 110,\n",
       " 107,\n",
       " 32,\n",
       " 105,\n",
       " 116,\n",
       " 32,\n",
       " 105,\n",
       " 115,\n",
       " 32,\n",
       " 105,\n",
       " 109,\n",
       " 112,\n",
       " 111,\n",
       " 114,\n",
       " 116,\n",
       " 97,\n",
       " 110,\n",
       " 116,\n",
       " 32,\n",
       " 116,\n",
       " 111,\n",
       " 32,\n",
       " 117,\n",
       " 115,\n",
       " 101,\n",
       " 32,\n",
       " 112,\n",
       " 114,\n",
       " 111,\n",
       " 112,\n",
       " 101,\n",
       " 114,\n",
       " 32,\n",
       " 103,\n",
       " 114,\n",
       " 97,\n",
       " 109,\n",
       " 109,\n",
       " 97,\n",
       " 114,\n",
       " 32,\n",
       " 97,\n",
       " 110,\n",
       " 100,\n",
       " 32,\n",
       " 112,\n",
       " 117,\n",
       " 110,\n",
       " 99,\n",
       " 116,\n",
       " 117,\n",
       " 97,\n",
       " 116,\n",
       " 105,\n",
       " 111,\n",
       " 110,\n",
       " 32,\n",
       " 119,\n",
       " 104,\n",
       " 105,\n",
       " 108,\n",
       " 101,\n",
       " 32,\n",
       " 116,\n",
       " 101,\n",
       " 120,\n",
       " 116,\n",
       " 105,\n",
       " 110,\n",
       " 103,\n",
       " 63,\n",
       " 32,\n",
       " 79,\n",
       " 114,\n",
       " 32,\n",
       " 99,\n",
       " 97,\n",
       " 110,\n",
       " 32,\n",
       " 111,\n",
       " 118,\n",
       " 101,\n",
       " 114,\n",
       " 108,\n",
       " 121,\n",
       " 32,\n",
       " 102,\n",
       " 111,\n",
       " 114,\n",
       " 109,\n",
       " 97,\n",
       " 108,\n",
       " 32,\n",
       " 116,\n",
       " 101,\n",
       " 120,\n",
       " 116,\n",
       " 115,\n",
       " 32,\n",
       " 115,\n",
       " 101,\n",
       " 110,\n",
       " 100,\n",
       " 32,\n",
       " 116,\n",
       " 104,\n",
       " 101,\n",
       " 32,\n",
       " 119,\n",
       " 114,\n",
       " 111,\n",
       " 110,\n",
       " 103,\n",
       " 32,\n",
       " 109,\n",
       " 101,\n",
       " 115,\n",
       " 115,\n",
       " 97,\n",
       " 103,\n",
       " 101,\n",
       " 63,\n",
       " 44,\n",
       " 32,\n",
       " 84,\n",
       " 97,\n",
       " 107,\n",
       " 101,\n",
       " 32,\n",
       " 97,\n",
       " 32,\n",
       " 108,\n",
       " 111,\n",
       " 111,\n",
       " 107,\n",
       " 32,\n",
       " 97,\n",
       " 116,\n",
       " 32,\n",
       " 116,\n",
       " 104,\n",
       " 101,\n",
       " 32,\n",
       " 109,\n",
       " 111,\n",
       " 115,\n",
       " 116,\n",
       " 32,\n",
       " 114,\n",
       " 101,\n",
       " 99,\n",
       " 101,\n",
       " 110,\n",
       " 116,\n",
       " 32,\n",
       " 116,\n",
       " 101,\n",
       " 120,\n",
       " 116,\n",
       " 32,\n",
       " 121,\n",
       " 111,\n",
       " 117,\n",
       " 32,\n",
       " 115,\n",
       " 101,\n",
       " 110,\n",
       " 116,\n",
       " 46,\n",
       " 32,\n",
       " 68,\n",
       " 111,\n",
       " 101,\n",
       " 115,\n",
       " 32,\n",
       " 105,\n",
       " 116,\n",
       " 32,\n",
       " 99,\n",
       " 111,\n",
       " 110,\n",
       " 116,\n",
       " 97,\n",
       " 105,\n",
       " 110,\n",
       " 32,\n",
       " 112,\n",
       " 117,\n",
       " 110,\n",
       " 99,\n",
       " 116,\n",
       " 117,\n",
       " 97,\n",
       " 116,\n",
       " 105,\n",
       " 111,\n",
       " 110,\n",
       " 63,\n",
       " 32,\n",
       " 65,\n",
       " 114,\n",
       " 101,\n",
       " 32,\n",
       " 119,\n",
       " 111,\n",
       " 114,\n",
       " 100,\n",
       " 115,\n",
       " 32,\n",
       " 99,\n",
       " 97,\n",
       " 112,\n",
       " 105,\n",
       " 116,\n",
       " 97,\n",
       " 108,\n",
       " 105,\n",
       " 122,\n",
       " 101,\n",
       " 100,\n",
       " 32,\n",
       " 111,\n",
       " 114,\n",
       " 32,\n",
       " 97,\n",
       " 108,\n",
       " 108,\n",
       " 32,\n",
       " 108,\n",
       " 111,\n",
       " 119,\n",
       " 101,\n",
       " 114,\n",
       " 99,\n",
       " 97,\n",
       " 115,\n",
       " 101,\n",
       " 63,\n",
       " 32,\n",
       " 68,\n",
       " 111,\n",
       " 101,\n",
       " 115,\n",
       " 32,\n",
       " 105,\n",
       " 116,\n",
       " 32,\n",
       " 99,\n",
       " 111,\n",
       " 110,\n",
       " 116,\n",
       " 97,\n",
       " 105,\n",
       " 110,\n",
       " 32,\n",
       " 101,\n",
       " 109,\n",
       " 111,\n",
       " 106,\n",
       " 105,\n",
       " 115,\n",
       " 63,\n",
       " 32,\n",
       " 72,\n",
       " 111,\n",
       " 119,\n",
       " 32,\n",
       " 102,\n",
       " 111,\n",
       " 114,\n",
       " 109,\n",
       " 97,\n",
       " 108,\n",
       " 32,\n",
       " 105,\n",
       " 115,\n",
       " 32,\n",
       " 116,\n",
       " 104,\n",
       " 101,\n",
       " 32,\n",
       " 116,\n",
       " 111,\n",
       " 110,\n",
       " 101,\n",
       " 63]"
      ]
     },
     "execution_count": 6,
     "metadata": {},
     "output_type": "execute_result"
    }
   ],
   "source": [
    "tokens"
   ]
  },
  {
   "cell_type": "code",
   "execution_count": 24,
   "metadata": {},
   "outputs": [
    {
     "data": {
      "text/plain": [
       "296"
      ]
     },
     "execution_count": 24,
     "metadata": {},
     "output_type": "execute_result"
    }
   ],
   "source": [
    "len(tokens)"
   ]
  },
  {
   "cell_type": "code",
   "execution_count": 42,
   "metadata": {},
   "outputs": [],
   "source": [
    "def get_pairs(tokens):\n",
    "    list = []\n",
    "    for i in range(len(tokens)):\n",
    "        list = tokens[i],[i]\n",
    "    return list"
   ]
  },
  {
   "cell_type": "code",
   "execution_count": 45,
   "metadata": {},
   "outputs": [
    {
     "data": {
      "text/plain": [
       "(63, [295])"
      ]
     },
     "execution_count": 45,
     "metadata": {},
     "output_type": "execute_result"
    }
   ],
   "source": [
    "get_pairs(tokens)\n",
    "\n",
    "# you left it at minute 28:23"
   ]
  }
 ],
 "metadata": {
  "kernelspec": {
   "display_name": "Python 3",
   "language": "python",
   "name": "python3"
  },
  "language_info": {
   "codemirror_mode": {
    "name": "ipython",
    "version": 3
   },
   "file_extension": ".py",
   "mimetype": "text/x-python",
   "name": "python",
   "nbconvert_exporter": "python",
   "pygments_lexer": "ipython3",
   "version": "3.11.1"
  }
 },
 "nbformat": 4,
 "nbformat_minor": 2
}
